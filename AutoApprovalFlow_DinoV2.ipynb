{
 "cells": [
  {
   "cell_type": "markdown",
   "id": "6af88681",
   "metadata": {},
   "source": [
    "### Auto Approval Cron Job\n",
    "\n",
    "1. Settings\n",
    "    1. account ID : accID\n",
    "    1. vehicle ID : vehID\n",
    "    1. region\n",
    "    1. Time range: timeRange\n",
    "1. Get relevant alerts\n",
    "    1. Fetch by {accID, timeRange} -- via API\n",
    "    1. Filter alerts that have remarks/approval \n",
    "    1. Filter alert by vehID\n",
    "1. For each alert get video from aws -- parallel thread\n",
    "1. Eval for approval <bf>evalApproval(localVideoFile, alertType)</bf>\n",
    "1. Log results:\n",
    "    1. [alert_id, image, type, result, stat, run_ts, run_times]\n",
    "    1. 12345678, <image>, seatbelt, approve, 867/1000, 12345678, (1, 1.3)\n",
    "    1. 12345678, <image>, mobile, ignore, 67/300, 12345679, (1, 1.3)\n",
    "1. Update alerts via API\n"
   ]
  },
  {
   "cell_type": "code",
   "execution_count": 78,
   "id": "9e0bf39e",
   "metadata": {},
   "outputs": [],
   "source": [
    "import json, glob, os, sys\n",
    "from datetime import datetime\n",
    "import time\n",
    "import utilsAWS as uAws;\n",
    "import intanglesAPIs as iApis\n",
    "import imageio\n",
    "from importlib import reload\n",
    "import numpy as np\n",
    "import matplotlib.pyplot as plt\n",
    "reload(uAws)\n",
    "uAws.gVerb = False\n",
    "\n",
    "from PIL import Image\n",
    "import io\n",
    "import base64\n",
    "\n",
    "def getBase64Image(img):\n",
    "    # Convert NumPy array to PIL Image\n",
    "    pil_image = Image.fromarray(img)\n",
    "\n",
    "    # Save the PIL Image to a BytesIO buffer in PNG format\n",
    "    buffer = io.BytesIO()\n",
    "    pil_image.save(buffer, format=\"PNG\")\n",
    "    image_bytes = buffer.getvalue()\n",
    "\n",
    "    # Base64 encode the image bytes\n",
    "    base64_encoded_image = base64.b64encode(image_bytes).decode('utf-8')\n",
    "    return base64_encoded_image"
   ]
  },
  {
   "cell_type": "markdown",
   "id": "518e1bdc",
   "metadata": {},
   "source": [
    "### 1. Settings"
   ]
  },
  {
   "cell_type": "code",
   "execution_count": 232,
   "id": "ab990150",
   "metadata": {},
   "outputs": [],
   "source": [
    "settings = {\n",
    "    'accID': '621348950418460672', # Shrinath\n",
    "#     'accID': '1313274493921132544', # TMS US\n",
    "    'tStart':  datetime(2025,7,9,1),\n",
    "    'tEnd': datetime(2025,7,9,13),\n",
    "    'region': 'India',\n",
    "#     'region': 'US',\n",
    "    'vehID': None,\n",
    "    'procDir': './AutoApprovalProc/',\n",
    "}\n",
    "settings['fetchAlertTypes'] = 'mobile_phone,seatbelt_violation'\n",
    "\n",
    "vidType = {\n",
    "    'mobile_phone': 'driver',\n",
    "    'seatbelt_violation': 'driver',\n",
    "}\n",
    "\n",
    " \n",
    "if settings['region'].lower()=='us':\n",
    "    urlUS = 'https://apis.intangles-aws-us-east-1.intangles.us'\n",
    "    tokenUS = 'FCNlIrz1dHlHyd_QYxF9V8bmLLkxNm_IzA3vq73MXdhpqOcXPf1YGBNIlgnYvrRI'\n",
    "    settings['urlFetchAlerts'] = urlUS\n",
    "    settings['urlUpdateAlerts'] = 'https://apis.intangles-aws-us-east-1.intangles.us/alertlog/{alertID}/updateV2?&acc_id={accID}&token={token}'\n",
    "    settings['token'] = tokenUS\n",
    "    uAws.initiate_s3_session(isUS=True)\n",
    "else:\n",
    "    settings['urlFetchAlerts'] = 'https://apis.intangles.com'\n",
    "    settings['urlUpdateAlerts'] = 'https://apis.intangles.com/alertlog/{alertID}/updateV2?&acc_id={accID}&token={token}'\n",
    "    settings['token'] = 'JBRHjp1tPFdyZwvRGblGwi-hIv5OmYu-cr--qzRE9rSCY6F1M5vxQt5Y7Wn9g7ur' \n",
    "    uAws.initiate_s3_session(isUS=False)\n",
    "\n"
   ]
  },
  {
   "cell_type": "code",
   "execution_count": 218,
   "id": "e87f9904",
   "metadata": {},
   "outputs": [],
   "source": [
    "    \n",
    "info = {\n",
    "    'start': datetime.now(),\n",
    "    'settings': settings,\n",
    "}"
   ]
  },
  {
   "cell_type": "markdown",
   "id": "8087b2df",
   "metadata": {},
   "source": [
    "### 2. Fetch Alerts & Apply Filters"
   ]
  },
  {
   "cell_type": "code",
   "execution_count": 219,
   "id": "5599bfd4",
   "metadata": {},
   "outputs": [
    {
     "name": "stdout",
     "output_type": "stream",
     "text": [
      "#Alerts=1110, took 0 sec\n"
     ]
    }
   ],
   "source": [
    "t1 = time.time()\n",
    "dAlerts, info = iApis.getVTAlerts(st = settings['tStart'],\n",
    "                            en = settings['tEnd'],\n",
    "                            baseUrl = settings['urlFetchAlerts'],\n",
    "                            utoken = settings['token'],\n",
    "                            alertType= settings['fetchAlertTypes'],\n",
    "                            accID = settings['accID'],\n",
    "                           )\n",
    "t2 = time.time()\n",
    "info['t_fetchAlerts'] = t2-t1\n",
    "info['n_alerts'] = len(dAlerts)\n",
    "print(\"#Alerts=%d, took %d sec\"%(len(dAlerts), t2-t1))\n",
    "\n"
   ]
  },
  {
   "cell_type": "code",
   "execution_count": 220,
   "id": "b25369dc",
   "metadata": {},
   "outputs": [
    {
     "data": {
      "text/plain": [
       "Counter({'mobile_phone': 1098, 'seatbelt_violation': 12})"
      ]
     },
     "execution_count": 220,
     "metadata": {},
     "output_type": "execute_result"
    }
   ],
   "source": [
    "from collections import Counter\n",
    "Counter([x['type'] for x in dAlerts])"
   ]
  },
  {
   "cell_type": "code",
   "execution_count": 224,
   "id": "e57ea060",
   "metadata": {},
   "outputs": [
    {
     "data": {
      "text/plain": [
       "datetime.datetime(2025, 7, 9, 13, 0)"
      ]
     },
     "execution_count": 224,
     "metadata": {},
     "output_type": "execute_result"
    }
   ],
   "source": [
    "settings['tEnd']"
   ]
  },
  {
   "cell_type": "code",
   "execution_count": 228,
   "id": "d6f46b75",
   "metadata": {},
   "outputs": [
    {
     "name": "stdout",
     "output_type": "stream",
     "text": [
      "#dropped= 5\n",
      "#for process= 97\n"
     ]
    }
   ],
   "source": [
    "alertsToProcess = []\n",
    "info['alertsToProcess'] = []\n",
    "info['alertsToProcessMeta'] = []\n",
    "info['alertsDropped'] = []\n",
    "for ent in dAlerts:\n",
    "    # filter to keep entries in vehID only (if given)\n",
    "    vid = ent['vehicle_id']\n",
    "    if settings['vehID'] is not None:\n",
    "        if vid not in settings['vehID']:\n",
    "            continue\n",
    "    if ent.get('alert_values',{}).get('approval_status',None) is not None:\n",
    "        continue\n",
    "        \n",
    "    # check if video is available\n",
    "    typ = ent['type']\n",
    "    vidUrl = None\n",
    "    for url in ent.get('alert_values',{}).get('artefacts',[]):\n",
    "        if url.find(vidType[typ]+'.mp4')>=0:\n",
    "            vidUrl = url\n",
    "    if vidUrl is None:\n",
    "        info['alertsDropped'].append((ent['id'], typ, 'no video file'))\n",
    "    else:\n",
    "        info['alertsToProcess'].append((ent['id'], typ, vidUrl))\n",
    "        info['alertsToProcessMeta'].append(ent)\n",
    "print('#dropped=',len(info['alertsDropped']))\n",
    "print('#for process=',len(info['alertsToProcess']))"
   ]
  },
  {
   "cell_type": "code",
   "execution_count": 230,
   "id": "5ee26061",
   "metadata": {},
   "outputs": [
    {
     "data": {
      "text/plain": [
       "Counter({'mobile_phone': 95, 'seatbelt_violation': 2})"
      ]
     },
     "execution_count": 230,
     "metadata": {},
     "output_type": "execute_result"
    }
   ],
   "source": [
    "Counter([x[1] for x in info['alertsToProcess']])"
   ]
  },
  {
   "cell_type": "markdown",
   "id": "a1df67b0",
   "metadata": {},
   "source": [
    "### Get Video from S3"
   ]
  },
  {
   "cell_type": "code",
   "execution_count": 237,
   "id": "4078c2a3",
   "metadata": {},
   "outputs": [],
   "source": [
    "videoDir = settings['procDir']+'/vids_%s/'%(datetime.now().strftime('%Y%m%d_%H%M'))\n",
    "print(videoDir)\n",
    "os.makedirs(localDir, exist_ok=True)\n",
    "\n",
    "files = []\n",
    "for (aId, typ, vidUrl) in info['alertsToProcess']:\n",
    "    files.append(vidUrl)\n",
    "#     if len(files)>40:\n",
    "#         break\n",
    "    \n",
    "t1 = time.time()\n",
    "uAws.downloadFiles(files, outDirPath=videoDir)\n",
    "t2 = time.time()\n",
    "info['t_AWS'] = t2-t1"
   ]
  },
  {
   "cell_type": "code",
   "execution_count": null,
   "id": "52cd389a",
   "metadata": {},
   "outputs": [],
   "source": []
  },
  {
   "cell_type": "markdown",
   "id": "c1c47f2b",
   "metadata": {},
   "source": [
    "### Process each video via Dino"
   ]
  },
  {
   "cell_type": "code",
   "execution_count": 273,
   "id": "c4565e58",
   "metadata": {},
   "outputs": [
    {
     "name": "stdout",
     "output_type": "stream",
     "text": [
      "loading DINO model ...\n"
     ]
    },
    {
     "name": "stderr",
     "output_type": "stream",
     "text": [
      "Using cache found in C:\\Users\\Vikram.Melapudi/.cache\\torch\\hub\\facebookresearch_dinov2_main\n"
     ]
    },
    {
     "name": "stdout",
     "output_type": "stream",
     "text": [
      "loading reference dataset ...\n",
      "mobile_phone (137, 768)\n",
      "seatbelt_violation (235, 768)\n",
      "DONE.\n"
     ]
    }
   ],
   "source": [
    "# initialize\n",
    "import utilsAutoApprovalDino as uDino\n",
    "reload(uDino)\n",
    "uDino.init('AutoApprovalProc/assets/refData.json')"
   ]
  },
  {
   "cell_type": "code",
   "execution_count": 234,
   "id": "d782ec43",
   "metadata": {},
   "outputs": [],
   "source": [
    "counts = {'Approve':0, 'Ignore':0, 'Verify': 0}\n",
    "processedAlerts = {}"
   ]
  },
  {
   "cell_type": "code",
   "execution_count": 240,
   "id": "30611e00",
   "metadata": {
    "scrolled": true
   },
   "outputs": [
    {
     "name": "stdout",
     "output_type": "stream",
     "text": [
      "process 1/97...\n",
      "./AutoApprovalProc/temp/tmp.png mobile_phone 411 322 Approve (2 s)\n",
      "process 2/97...\n",
      "./AutoApprovalProc/temp/tmp.png mobile_phone 411 357 Approve (2 s)\n",
      "process 3/97...\n",
      "./AutoApprovalProc/temp/tmp.png mobile_phone 411 333 Approve (2 s)\n",
      "process 4/97...\n",
      "./AutoApprovalProc/temp/tmp.png mobile_phone 411 284 Approve (2 s)\n",
      "process 5/97...\n",
      "./AutoApprovalProc/temp/tmp.png mobile_phone 411 302 Approve (2 s)\n",
      "process 6/97...\n",
      "./AutoApprovalProc/temp/tmp.png mobile_phone 411 314 Approve (2 s)\n",
      "process 7/97...\n",
      "./AutoApprovalProc/temp/tmp.png mobile_phone 411 321 Approve (2 s)\n",
      "process 8/97...\n",
      "./AutoApprovalProc/temp/tmp.png mobile_phone 411 345 Approve (2 s)\n",
      "process 9/97...\n",
      "./AutoApprovalProc/temp/tmp.png mobile_phone 411 279 Approve (2 s)\n",
      "process 10/97...\n",
      "./AutoApprovalProc/temp/tmp.png mobile_phone 411 314 Approve (2 s)\n",
      "process 11/97...\n",
      "./AutoApprovalProc/temp/tmp.png mobile_phone 411 275 Approve (2 s)\n",
      "process 12/97...\n",
      "./AutoApprovalProc/temp/tmp.png mobile_phone 411 305 Approve (2 s)\n",
      "process 13/97...\n",
      "./AutoApprovalProc/temp/tmp.png mobile_phone 411 284 Approve (2 s)\n",
      "process 14/97...\n",
      "./AutoApprovalProc/temp/tmp.png mobile_phone 411 279 Approve (2 s)\n",
      "process 15/97...\n",
      "./AutoApprovalProc/temp/tmp.png mobile_phone 411 271 Approve (2 s)\n",
      "process 16/97...\n",
      "./AutoApprovalProc/temp/tmp.png mobile_phone 411 350 Approve (2 s)\n",
      "process 17/97...\n",
      "./AutoApprovalProc/temp/tmp.png mobile_phone 411 343 Approve (2 s)\n",
      "process 18/97...\n",
      "./AutoApprovalProc/temp/tmp.png mobile_phone 411 317 Approve (2 s)\n",
      "process 19/97...\n",
      "./AutoApprovalProc/temp/tmp.png mobile_phone 411 341 Approve (2 s)\n",
      "process 20/97...\n",
      "./AutoApprovalProc/temp/tmp.png mobile_phone 411 330 Approve (2 s)\n",
      "process 21/97...\n",
      "./AutoApprovalProc/temp/tmp.png mobile_phone 411 359 Approve (2 s)\n",
      "process 22/97...\n",
      "./AutoApprovalProc/temp/tmp.png mobile_phone 411 358 Approve (2 s)\n",
      "process 23/97...\n",
      "./AutoApprovalProc/temp/tmp.png mobile_phone 411 326 Approve (2 s)\n",
      "process 24/97...\n",
      "./AutoApprovalProc/temp/tmp.png mobile_phone 411 333 Approve (2 s)\n",
      "process 25/97...\n",
      "./AutoApprovalProc/temp/tmp.png mobile_phone 411 207 Verify (2 s)\n",
      "process 26/97...\n",
      "./AutoApprovalProc/temp/tmp.png mobile_phone 411 312 Approve (2 s)\n",
      "process 27/97...\n",
      "./AutoApprovalProc/temp/tmp.png mobile_phone 411 128 Ignore (2 s)\n",
      "process 28/97...\n",
      "./AutoApprovalProc/temp/tmp.png mobile_phone 411 224 Verify (2 s)\n",
      "process 29/97...\n",
      "./AutoApprovalProc/temp/tmp.png mobile_phone 411 202 Verify (2 s)\n",
      "process 30/97...\n",
      "./AutoApprovalProc/temp/tmp.png mobile_phone 411 258 Approve (2 s)\n",
      "process 31/97...\n",
      "./AutoApprovalProc/temp/tmp.png mobile_phone 411 319 Approve (2 s)\n",
      "process 32/97...\n",
      "./AutoApprovalProc/temp/tmp.png mobile_phone 411 336 Approve (2 s)\n",
      "process 33/97...\n",
      "./AutoApprovalProc/temp/tmp.png mobile_phone 411 257 Approve (2 s)\n",
      "process 34/97...\n",
      "./AutoApprovalProc/temp/tmp.png mobile_phone 411 312 Approve (2 s)\n",
      "process 35/97...\n",
      "./AutoApprovalProc/temp/tmp.png mobile_phone 411 354 Approve (2 s)\n",
      "process 36/97...\n",
      "./AutoApprovalProc/temp/tmp.png mobile_phone 411 319 Approve (2 s)\n",
      "process 37/97...\n",
      "./AutoApprovalProc/temp/tmp.png mobile_phone 411 316 Approve (2 s)\n",
      "process 38/97...\n",
      "./AutoApprovalProc/temp/tmp.png mobile_phone 411 224 Verify (2 s)\n",
      "process 39/97...\n",
      "./AutoApprovalProc/temp/tmp.png mobile_phone 411 304 Approve (2 s)\n",
      "process 40/97...\n",
      "./AutoApprovalProc/temp/tmp.png mobile_phone 411 234 Verify (2 s)\n",
      "process 41/97...\n",
      "./AutoApprovalProc/temp/tmp.png mobile_phone 411 284 Approve (2 s)\n",
      "process 42/97...\n",
      "./AutoApprovalProc/temp/tmp.png mobile_phone 411 233 Verify (2 s)\n",
      "process 43/97...\n",
      "./AutoApprovalProc/temp/tmp.png mobile_phone 411 313 Approve (2 s)\n",
      "process 44/97...\n",
      "./AutoApprovalProc/temp/tmp.png mobile_phone 411 306 Approve (2 s)\n",
      "process 45/97...\n",
      "./AutoApprovalProc/temp/tmp.png mobile_phone 411 219 Verify (2 s)\n",
      "process 46/97...\n",
      "./AutoApprovalProc/temp/tmp.png mobile_phone 411 342 Approve (2 s)\n",
      "process 47/97...\n",
      "./AutoApprovalProc/temp/tmp.png mobile_phone 411 316 Approve (2 s)\n",
      "process 48/97...\n",
      "./AutoApprovalProc/temp/tmp.png mobile_phone 411 280 Approve (2 s)\n",
      "process 49/97...\n",
      "./AutoApprovalProc/temp/tmp.png mobile_phone 411 234 Verify (2 s)\n",
      "process 50/97...\n",
      "./AutoApprovalProc/temp/tmp.png seatbelt_violation 705 551 Ignore (2 s)\n",
      "process 51/97...\n",
      "./AutoApprovalProc/temp/tmp.png seatbelt_violation 705 177 Approve (2 s)\n",
      "\n",
      "DONE.\n"
     ]
    }
   ],
   "source": [
    "tempDir = os.path.join(settings['procDir'],'temp/')\n",
    "os.makedirs(tempDir, exist_ok=True)\n",
    "    \n",
    "nVid = 0\n",
    "for (aId, typ, vidUrl) in info['alertsToProcess']:\n",
    "    if aId in processedAlerts:\n",
    "        continue\n",
    "    nVid += 1\n",
    "    print('process %d/%d...'%(len(processedAlerts), len(info['alertsToProcess'])))\n",
    "    t1 = time.time()\n",
    "    localVidFile = uAws.s3ToLocalPath(vidUrl)\n",
    "    vid = imageio.get_reader( os.path.join(videoDir,localVidFile) )\n",
    "    N = 10 # vid.count_frames()\n",
    "    img = vid.get_data(N//2)\n",
    "    \n",
    "    # handle full cabin image -> crop to corrrect half side\n",
    "    if img.shape[1]>800:\n",
    "        if settings['region'].lower()=='us':\n",
    "            img = img[:,img.shape[1]//2:]\n",
    "        else:\n",
    "            img = img[:,:img.shape[1]//2]\n",
    "\n",
    "    qobj = uDino.procImage(img, saveNpz=False)#, forceLoad=True)\n",
    "    dists, indxs = qobj['knn'].kneighbors(uDino.feats[typ], 3)\n",
    "\n",
    "    xyDists = [] # tuple of (x,y,D) for each reference patch\n",
    "    for n in range(len(dists)):\n",
    "        for m in range(3):\n",
    "            x, y = uDino.index2xy(indxs[n,m], qobj)\n",
    "            xyDists.append((x,y,dists[n,m]))\n",
    "    xyDists = np.array(xyDists) \n",
    "    rules = uDino.refDataset.get(typ,{}).get('rules',{})\n",
    "    # indx = np.where(xyDists[:,2]<rules['threshold'])[0]\n",
    "\n",
    "    t2 = time.time()\n",
    "\n",
    "    Nthresh = rules['passThreshold']\n",
    "    Ntot = len(xyDists)\n",
    "    Npass = np.sum(xyDists[:,2]<Nthresh)\n",
    "    if Npass > Ntot//2+int(Ntot*rules['unsureFraction']):\n",
    "        Nres = rules[\"passAction\"]\n",
    "    elif Npass < Ntot//2-int(Ntot*rules['unsureFraction']):\n",
    "        Nres = rules[\"failAction\"]\n",
    "    else:\n",
    "        Nres = 'Verify'\n",
    "\n",
    "    print(qImageFile, typ, Ntot, Npass, Nres, '(%d s)'%(t2-t1))\n",
    "    counts[Nres] += 1\n",
    "\n",
    "    rimg = uDino.cv2.resize(img, (150,100))\n",
    "    \n",
    "    processedAlerts[str(aId)] = {\n",
    "        'id': str(aId),\n",
    "        'img': getBase64Image(rimg),\n",
    "        'type': str(typ),\n",
    "        'result': Nres,\n",
    "        'Npass': Npass,\n",
    "        'Ntot': Ntot,\n",
    "        'runS': (t2-t1),\n",
    "        'date': datetime.now()\n",
    "    }\n",
    "\n",
    "    if False:\n",
    "        plt.figure(figsize=(7,3))\n",
    "        plt.subplot(121)\n",
    "        plt.imshow(qobj['image'])\n",
    "    #     plt.plot(xyDists[indx,0], xyDists[indx,1], 'rx')\n",
    "        plt.subplot(122)\n",
    "        plt.plot(sorted(xyDists[:,2]))\n",
    "        plt.hlines(45,0,len(xyDists))#,'r-')\n",
    "        plt.xlabel('feat-index')\n",
    "        plt.ylabel('NN-dist')\n",
    "        plt.tight_layout()\n",
    "        plt.show()\n",
    "print('')\n",
    "print('DONE.')"
   ]
  },
  {
   "cell_type": "code",
   "execution_count": null,
   "id": "f8170770",
   "metadata": {},
   "outputs": [],
   "source": []
  },
  {
   "cell_type": "code",
   "execution_count": null,
   "id": "3eaecb76",
   "metadata": {},
   "outputs": [],
   "source": []
  },
  {
   "cell_type": "markdown",
   "id": "c63714cc",
   "metadata": {},
   "source": [
    "### Write a Summary File"
   ]
  },
  {
   "cell_type": "code",
   "execution_count": 242,
   "id": "3269a90a",
   "metadata": {},
   "outputs": [
    {
     "name": "stdout",
     "output_type": "stream",
     "text": [
      "HTML file= ./AutoApprovalProc//summaryIndia.html\n"
     ]
    }
   ],
   "source": [
    "htmlFile = settings['procDir']+'/summary'+settings['region']+'.html'\n",
    "print('HTML file=', htmlFile)\n",
    "with open(htmlFile, 'w') as f:\n",
    "    f.write('''<html><head>\n",
    "    \n",
    "    <style>\n",
    "    *{\n",
    "      font-family: Arial;\n",
    "      font-size: 12px;\n",
    "      }\n",
    "    th, td {\n",
    "      padding-left: 10px;\n",
    "      padding-right: 10px;\n",
    "    }\n",
    "    .approve {\n",
    "        background-color:#DDFFDD;\n",
    "        padding:5px;\n",
    "        border-radius:8px;\n",
    "    }\n",
    "    .ignore {\n",
    "        background-color:#FFDDDD;\n",
    "        padding:5px;\n",
    "        border-radius:8px;\n",
    "    }\n",
    "    .verify {\n",
    "        background-color:#FFF955;\n",
    "        padding:5px;\n",
    "        border-radius:8px;\n",
    "    }\n",
    "    </style>\n",
    "    <script>\n",
    "    var settingsJSON = '%s'\n",
    "    function clicked(el) {\n",
    "      var els = document.getElementsByClassName(el.id);\n",
    "      console.info(el.id+','+els.length);\n",
    "      var dval = 'none';\n",
    "      if(el.checked) dval = '';\n",
    "      for(var n=0; n<els.length; n++) {\n",
    "        if(els[n].tagName=='LABEL') continue;\n",
    "        els[n].style.display = dval;\n",
    "      }\n",
    "    }\n",
    "    </script>\n",
    "    </head>\n",
    "    <body style=\"text-align:center;\">\n",
    "    <h2 style=\"font-size:24px;background-color:#BBBBFF; padding:5px;\">Auto Approval Review</h2>\n",
    "    <div style=\"margin:10px\"> accID=%s, vIDs=%s, time=[%s, %s]\n",
    "    </div>\n",
    "    <div style=\"margin:10px\">\n",
    "    <input type=\"checkbox\" id=\"approve\" onclick=\"clicked(this)\"><label for=\"approve\" id=\"lapprove\" class=\"approve\">approve</label>\n",
    "    <input type=\"checkbox\" id=\"ignore\" onclick=\"clicked(this)\"><label for=\"ignore\" id=\"lignore\" class=\"ignore\">ignore</label>\n",
    "    <input type=\"checkbox\" id=\"verify\" onclick=\"clicked(this)\"><label for=\"verify\" id=\"lverify\" class=\"verify\">verify</label>\n",
    "    </div>\n",
    "    <table style=\"margin:5px; margin-left:auto; margin-right:auto;\">\n",
    "    '''%(json.dumps(settings,default=str), \n",
    "         settings['accID'], str(settings['vehID']), \n",
    "         str(settings['tStart']), str(settings['tEnd'])) )\n",
    "    \n",
    "    header = ['Alert ID','Image','Type','Result','Score','Timing','Date']\n",
    "    f.write('<tr>')\n",
    "    for head in header:\n",
    "        f.write('<th>%s</th>'%head)\n",
    "    f.write('</tr>\\n')\n",
    "    \n",
    "    for idd in processedAlerts:\n",
    "        lst = processedAlerts[idd]\n",
    "        f.write('<tr class=\"%s\">'%lst['result'])\n",
    "        f.write('<td>'+lst['id']+'</td>')\n",
    "        f.write('<td><img src=\"data:image/png;base64,%s\"></td>'%lst['img'])\n",
    "        f.write('<td>'+lst['type']+'</td>')\n",
    "        f.write('<td>%s</td>'%lst['result'])\n",
    "        f.write('<td>%d/%d</td>'%(lst['Npass'], lst['Ntot']))\n",
    "        f.write('<td>%1.2f</td> <td>%d</td>'%(lst['runS'], lst['date'].timestamp()))\n",
    "        f.write('</tr>\\n')\n",
    "    \n",
    "    f.write('''</table>\n",
    "    <script>\n",
    "    var el;\n",
    "    el = document.getElementById(\"lapprove\"); el.innerHTML = \"Approve (%d)\"; \n",
    "    el = document.getElementById(\"lignore\"); el.innerHTML = \"Ignore (%d)\"; \n",
    "    el = document.getElementById(\"lverify\"); el.innerHTML = \"Verify (%d)\";\n",
    "    el.click();\n",
    "    var lst = ['approve','ignore','verify'];\n",
    "    for(var n=0; n<3; n++) clicked(document.getElementById(lst[n]));\n",
    "    </script>\n",
    "    </body></html>\n",
    "    '''%(counts['Approve'],counts['Ignore'],counts['Verify'])\n",
    "    )\n",
    "    \n",
    "      "
   ]
  },
  {
   "cell_type": "code",
   "execution_count": null,
   "id": "c728b245",
   "metadata": {},
   "outputs": [],
   "source": []
  },
  {
   "cell_type": "markdown",
   "id": "84c402d6",
   "metadata": {},
   "source": [
    "### Update alerts"
   ]
  },
  {
   "cell_type": "code",
   "execution_count": 243,
   "id": "7bd2bc00",
   "metadata": {},
   "outputs": [
    {
     "name": "stdout",
     "output_type": "stream",
     "text": [
      "1334833384924381184-mobile_phone-1752018457082 seatbelt_violation Approve True\n",
      "1334833384924381184-mobile_phone-1752018560582 seatbelt_violation Approve True\n",
      "1334833384924381184-mobile_phone-1752018933266 seatbelt_violation Approve True\n",
      "1369971323601682432-mobile_phone-1752021003590 seatbelt_violation Approve True\n",
      "1359900481819770880-mobile_phone-1752021600119 seatbelt_violation Approve True\n",
      "1360638833539940352-mobile_phone-1752021722474 seatbelt_violation Approve True\n",
      "1369971323601682432-mobile_phone-1752021762295 seatbelt_violation Approve True\n",
      "1369971323601682432-mobile_phone-1752021827725 seatbelt_violation Approve True\n",
      "1360567581215293440-mobile_phone-1752021882538 seatbelt_violation Approve True\n",
      "1369971323601682432-mobile_phone-1752022327591 seatbelt_violation Approve True\n",
      "1369963764438269952-mobile_phone-1752022684012 seatbelt_violation Approve True\n",
      "1369963764438269952-mobile_phone-1752022764579 seatbelt_violation Approve True\n",
      "1369963764438269952-mobile_phone-1752022888974 seatbelt_violation Approve True\n",
      "687682362724581376-mobile_phone-1752022921536 seatbelt_violation Approve True\n",
      "1359900481819770880-mobile_phone-1752023149225 seatbelt_violation Approve True\n",
      "1359900481819770880-mobile_phone-1752023666228 seatbelt_violation Approve True\n",
      "1359900481819770880-mobile_phone-1752023758021 seatbelt_violation Approve True\n",
      "1359900481819770880-mobile_phone-1752023885859 seatbelt_violation Approve True\n",
      "1359900481819770880-mobile_phone-1752024137726 seatbelt_violation Approve True\n",
      "1192134642870779904-mobile_phone-1752024152961 seatbelt_violation Approve True\n",
      "1359900481819770880-mobile_phone-1752024411209 seatbelt_violation Approve True\n",
      "1359900481819770880-mobile_phone-1752024931485 seatbelt_violation Approve True\n",
      "1359900481819770880-mobile_phone-1752025066022 seatbelt_violation Approve True\n",
      "1360269345892073472-mobile_phone-1752025370664 seatbelt_violation Approve True\n",
      "1359900481819770880-mobile_phone-1752025543505 seatbelt_violation Approve True\n",
      "1359900481819770880-mobile_phone-1752025724971 seatbelt_violation Approve True\n",
      "1359906014471651328-mobile_phone-1752025969933 seatbelt_violation Approve True\n",
      "1367871312453697536-mobile_phone-1752026137492 seatbelt_violation Approve True\n",
      "1359900481819770880-mobile_phone-1752026148902 seatbelt_violation Approve True\n",
      "1359851472912646144-mobile_phone-1752026632878 seatbelt_violation Approve True\n",
      "1359906014471651328-mobile_phone-1752026677825 seatbelt_violation Approve True\n",
      "1359851472912646144-mobile_phone-1752026738733 seatbelt_violation Approve True\n",
      "1367813213353148416-mobile_phone-1752026775982 seatbelt_violation Approve True\n",
      "1359906014471651328-mobile_phone-1752026909177 seatbelt_violation Approve True\n",
      "1359900481819770880-mobile_phone-1752026975011 seatbelt_violation Approve True\n",
      "1347204086562291712-mobile_phone-1752027284641 seatbelt_violation Approve True\n",
      "1359906014471651328-mobile_phone-1752027330590 seatbelt_violation Approve True\n",
      "1359900481819770880-mobile_phone-1752027340949 seatbelt_violation Approve True\n",
      "1367813213353148416-mobile_phone-1752027363081 seatbelt_violation Approve True\n",
      "1347204086562291712-mobile_phone-1752027508112 seatbelt_violation Approve True\n",
      "1099690808606457856-mobile_phone-1752027669732 seatbelt_violation Approve True\n",
      "1099690808606457856-mobile_phone-1752027958019 seatbelt_violation Approve True\n",
      "1268893955106275328-mobile_phone-1752028030914 seatbelt_violation Approve True\n",
      "1099690808606457856-mobile_phone-1752028117956 seatbelt_violation Approve True\n",
      "1360269345892073472-mobile_phone-1752028157561 seatbelt_violation Approve True\n",
      "1359900481819770880-mobile_phone-1752028233654 seatbelt_violation Approve True\n",
      "1359843145235300352-mobile_phone-1752028253198 seatbelt_violation Approve True\n",
      "1099690808606457856-mobile_phone-1752028430567 seatbelt_violation Approve True\n",
      "1099690808606457856-mobile_phone-1752028500970 seatbelt_violation Approve True\n",
      "1289228257593393152-mobile_phone-1752028617902 seatbelt_violation Approve True\n",
      "1289228257593393152-mobile_phone-1752028708507 seatbelt_violation Approve True\n",
      "1359843145235300352-mobile_phone-1752028784568 seatbelt_violation Approve True\n",
      "1369971323601682432-mobile_phone-1752029072991 seatbelt_violation Approve True\n",
      "1314523938331557888-mobile_phone-1752029085407 seatbelt_violation Approve True\n"
     ]
    },
    {
     "ename": "JSONDecodeError",
     "evalue": "Expecting value: line 1 column 1 (char 0)",
     "output_type": "error",
     "traceback": [
      "\u001b[1;31m---------------------------------------------------------------------------\u001b[0m",
      "\u001b[1;31mJSONDecodeError\u001b[0m                           Traceback (most recent call last)",
      "File \u001b[1;32m~\\AppData\\Local\\anaconda3\\Lib\\site-packages\\requests\\models.py:971\u001b[0m, in \u001b[0;36mResponse.json\u001b[1;34m(self, **kwargs)\u001b[0m\n\u001b[0;32m    970\u001b[0m \u001b[38;5;28;01mtry\u001b[39;00m:\n\u001b[1;32m--> 971\u001b[0m     \u001b[38;5;28;01mreturn\u001b[39;00m complexjson\u001b[38;5;241m.\u001b[39mloads(\u001b[38;5;28mself\u001b[39m\u001b[38;5;241m.\u001b[39mtext, \u001b[38;5;241m*\u001b[39m\u001b[38;5;241m*\u001b[39mkwargs)\n\u001b[0;32m    972\u001b[0m \u001b[38;5;28;01mexcept\u001b[39;00m JSONDecodeError \u001b[38;5;28;01mas\u001b[39;00m e:\n\u001b[0;32m    973\u001b[0m     \u001b[38;5;66;03m# Catch JSON-related errors and raise as requests.JSONDecodeError\u001b[39;00m\n\u001b[0;32m    974\u001b[0m     \u001b[38;5;66;03m# This aliases json.JSONDecodeError and simplejson.JSONDecodeError\u001b[39;00m\n",
      "File \u001b[1;32m~\\AppData\\Local\\anaconda3\\Lib\\json\\__init__.py:346\u001b[0m, in \u001b[0;36mloads\u001b[1;34m(s, cls, object_hook, parse_float, parse_int, parse_constant, object_pairs_hook, **kw)\u001b[0m\n\u001b[0;32m    343\u001b[0m \u001b[38;5;28;01mif\u001b[39;00m (\u001b[38;5;28mcls\u001b[39m \u001b[38;5;129;01mis\u001b[39;00m \u001b[38;5;28;01mNone\u001b[39;00m \u001b[38;5;129;01mand\u001b[39;00m object_hook \u001b[38;5;129;01mis\u001b[39;00m \u001b[38;5;28;01mNone\u001b[39;00m \u001b[38;5;129;01mand\u001b[39;00m\n\u001b[0;32m    344\u001b[0m         parse_int \u001b[38;5;129;01mis\u001b[39;00m \u001b[38;5;28;01mNone\u001b[39;00m \u001b[38;5;129;01mand\u001b[39;00m parse_float \u001b[38;5;129;01mis\u001b[39;00m \u001b[38;5;28;01mNone\u001b[39;00m \u001b[38;5;129;01mand\u001b[39;00m\n\u001b[0;32m    345\u001b[0m         parse_constant \u001b[38;5;129;01mis\u001b[39;00m \u001b[38;5;28;01mNone\u001b[39;00m \u001b[38;5;129;01mand\u001b[39;00m object_pairs_hook \u001b[38;5;129;01mis\u001b[39;00m \u001b[38;5;28;01mNone\u001b[39;00m \u001b[38;5;129;01mand\u001b[39;00m \u001b[38;5;129;01mnot\u001b[39;00m kw):\n\u001b[1;32m--> 346\u001b[0m     \u001b[38;5;28;01mreturn\u001b[39;00m _default_decoder\u001b[38;5;241m.\u001b[39mdecode(s)\n\u001b[0;32m    347\u001b[0m \u001b[38;5;28;01mif\u001b[39;00m \u001b[38;5;28mcls\u001b[39m \u001b[38;5;129;01mis\u001b[39;00m \u001b[38;5;28;01mNone\u001b[39;00m:\n",
      "File \u001b[1;32m~\\AppData\\Local\\anaconda3\\Lib\\json\\decoder.py:337\u001b[0m, in \u001b[0;36mJSONDecoder.decode\u001b[1;34m(self, s, _w)\u001b[0m\n\u001b[0;32m    333\u001b[0m \u001b[38;5;250m\u001b[39m\u001b[38;5;124;03m\"\"\"Return the Python representation of ``s`` (a ``str`` instance\u001b[39;00m\n\u001b[0;32m    334\u001b[0m \u001b[38;5;124;03mcontaining a JSON document).\u001b[39;00m\n\u001b[0;32m    335\u001b[0m \n\u001b[0;32m    336\u001b[0m \u001b[38;5;124;03m\"\"\"\u001b[39;00m\n\u001b[1;32m--> 337\u001b[0m obj, end \u001b[38;5;241m=\u001b[39m \u001b[38;5;28mself\u001b[39m\u001b[38;5;241m.\u001b[39mraw_decode(s, idx\u001b[38;5;241m=\u001b[39m_w(s, \u001b[38;5;241m0\u001b[39m)\u001b[38;5;241m.\u001b[39mend())\n\u001b[0;32m    338\u001b[0m end \u001b[38;5;241m=\u001b[39m _w(s, end)\u001b[38;5;241m.\u001b[39mend()\n",
      "File \u001b[1;32m~\\AppData\\Local\\anaconda3\\Lib\\json\\decoder.py:355\u001b[0m, in \u001b[0;36mJSONDecoder.raw_decode\u001b[1;34m(self, s, idx)\u001b[0m\n\u001b[0;32m    354\u001b[0m \u001b[38;5;28;01mexcept\u001b[39;00m \u001b[38;5;167;01mStopIteration\u001b[39;00m \u001b[38;5;28;01mas\u001b[39;00m err:\n\u001b[1;32m--> 355\u001b[0m     \u001b[38;5;28;01mraise\u001b[39;00m JSONDecodeError(\u001b[38;5;124m\"\u001b[39m\u001b[38;5;124mExpecting value\u001b[39m\u001b[38;5;124m\"\u001b[39m, s, err\u001b[38;5;241m.\u001b[39mvalue) \u001b[38;5;28;01mfrom\u001b[39;00m \u001b[38;5;28;01mNone\u001b[39;00m\n\u001b[0;32m    356\u001b[0m \u001b[38;5;28;01mreturn\u001b[39;00m obj, end\n",
      "\u001b[1;31mJSONDecodeError\u001b[0m: Expecting value: line 1 column 1 (char 0)",
      "\nDuring handling of the above exception, another exception occurred:\n",
      "\u001b[1;31mJSONDecodeError\u001b[0m                           Traceback (most recent call last)",
      "Cell \u001b[1;32mIn[243], line 33\u001b[0m\n\u001b[0;32m     31\u001b[0m \u001b[38;5;28mprint\u001b[39m(aId, typ, ent[\u001b[38;5;124m'\u001b[39m\u001b[38;5;124mresult\u001b[39m\u001b[38;5;124m'\u001b[39m], flag)\u001b[38;5;66;03m# , values)\u001b[39;00m\n\u001b[0;32m     32\u001b[0m r \u001b[38;5;241m=\u001b[39m requests\u001b[38;5;241m.\u001b[39mpost(alertUpdateURL\u001b[38;5;241m.\u001b[39mformat(alertID\u001b[38;5;241m=\u001b[39maId,accID\u001b[38;5;241m=\u001b[39maccId,token\u001b[38;5;241m=\u001b[39mtoken), ignoreData)\n\u001b[1;32m---> 33\u001b[0m rjd \u001b[38;5;241m=\u001b[39m r\u001b[38;5;241m.\u001b[39mjson()\n",
      "File \u001b[1;32m~\\AppData\\Local\\anaconda3\\Lib\\site-packages\\requests\\models.py:975\u001b[0m, in \u001b[0;36mResponse.json\u001b[1;34m(self, **kwargs)\u001b[0m\n\u001b[0;32m    971\u001b[0m     \u001b[38;5;28;01mreturn\u001b[39;00m complexjson\u001b[38;5;241m.\u001b[39mloads(\u001b[38;5;28mself\u001b[39m\u001b[38;5;241m.\u001b[39mtext, \u001b[38;5;241m*\u001b[39m\u001b[38;5;241m*\u001b[39mkwargs)\n\u001b[0;32m    972\u001b[0m \u001b[38;5;28;01mexcept\u001b[39;00m JSONDecodeError \u001b[38;5;28;01mas\u001b[39;00m e:\n\u001b[0;32m    973\u001b[0m     \u001b[38;5;66;03m# Catch JSON-related errors and raise as requests.JSONDecodeError\u001b[39;00m\n\u001b[0;32m    974\u001b[0m     \u001b[38;5;66;03m# This aliases json.JSONDecodeError and simplejson.JSONDecodeError\u001b[39;00m\n\u001b[1;32m--> 975\u001b[0m     \u001b[38;5;28;01mraise\u001b[39;00m RequestsJSONDecodeError(e\u001b[38;5;241m.\u001b[39mmsg, e\u001b[38;5;241m.\u001b[39mdoc, e\u001b[38;5;241m.\u001b[39mpos)\n",
      "\u001b[1;31mJSONDecodeError\u001b[0m: Expecting value: line 1 column 1 (char 0)"
     ]
    }
   ],
   "source": [
    "import requests\n",
    "\n",
    "userShow = {\n",
    "    'mobile_phone': {\n",
    "        'Approve': (True, json.dumps({\"approval_status\":\"approve\", \"remarks\":\"auto approval\"})),\n",
    "        'Ignore': (False, json.dumps({\"approval_status\":\"decline\", \"remarks\":\"auto approval\"})),\n",
    "    },\n",
    "    'seatbelt_violation': {\n",
    "        'Approve': (True, json.dumps({\"approval_status\":\"approve\", \"remarks\":\"auto approval\"})),\n",
    "        'Ignore': (False, json.dumps({\"approval_status\":\"decline\", \"remarks\":\"auto approval\"})),\n",
    "    },\n",
    "}\n",
    "\n",
    "\n",
    "# ignoreData = {\"user_show\":False, \n",
    "#               \"alert_values\": json.dumps({\"approval_status\":\"decline\", \"remarks\":\"Detection Issue: No yawn/No Eye Close\"})\n",
    "#              }\n",
    "\n",
    "if True:\n",
    "    alertUpdateURL = settings['urlUpdateAlerts']\n",
    "    for aId in processedAlerts:\n",
    "        ent = processedAlerts[aId]\n",
    "        if ent['result']=='Verify':\n",
    "            continue\n",
    "\n",
    "        accId = settings['accID']\n",
    "        token = settings['token']\n",
    "        flag, values = userShow.get(ent['type']).get(ent['result'])\n",
    "\n",
    "        ignoreData = {'user_show': flag, 'alert_values': values}\n",
    "        print(aId, typ, ent['result'], flag)# , values)\n",
    "        r = requests.post(alertUpdateURL.format(alertID=aId,accID=accId,token=token), ignoreData)\n",
    "        rjd = r.json()\n"
   ]
  },
  {
   "cell_type": "code",
   "execution_count": null,
   "id": "434fac1c",
   "metadata": {},
   "outputs": [],
   "source": []
  }
 ],
 "metadata": {
  "kernelspec": {
   "display_name": "Python 3 (ipykernel)",
   "language": "python",
   "name": "python3"
  },
  "language_info": {
   "codemirror_mode": {
    "name": "ipython",
    "version": 3
   },
   "file_extension": ".py",
   "mimetype": "text/x-python",
   "name": "python",
   "nbconvert_exporter": "python",
   "pygments_lexer": "ipython3",
   "version": "3.11.5"
  }
 },
 "nbformat": 4,
 "nbformat_minor": 5
}
