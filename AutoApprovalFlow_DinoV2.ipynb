{
 "cells": [
  {
   "cell_type": "markdown",
   "id": "6af88681",
   "metadata": {},
   "source": [
    "### Auto Approval Cron Job\n",
    "\n",
    "1. Settings\n",
    "    1. account ID : accID\n",
    "    1. vehicle ID : vehID\n",
    "    1. region\n",
    "    1. Time range: timeRange\n",
    "1. Get relevant alerts\n",
    "    1. Fetch by {accID, timeRange} -- via API\n",
    "    1. Filter alerts that have remarks/approval \n",
    "    1. Filter alert by vehID\n",
    "1. For each alert get video from aws -- parallel thread\n",
    "1. Eval for approval <bf>evalApproval(localVideoFile, alertType)</bf>\n",
    "1. Log results:\n",
    "    1. [alert_id, image, type, result, stat, run_ts, run_times]\n",
    "    1. 12345678, <image>, seatbelt, approve, 867/1000, 12345678, (1, 1.3)\n",
    "    1. 12345678, <image>, mobile, ignore, 67/300, 12345679, (1, 1.3)\n",
    "1. Update alerts via API\n"
   ]
  },
  {
   "cell_type": "code",
   "execution_count": 1,
   "id": "9e0bf39e",
   "metadata": {},
   "outputs": [],
   "source": [
    "import json, glob, os, sys\n",
    "from datetime import datetime\n",
    "import time\n",
    "import utilsAWS as uAws;\n",
    "import intanglesAPIs as iApis\n",
    "import imageio\n",
    "from importlib import reload\n",
    "import numpy as np\n",
    "import matplotlib.pyplot as plt\n",
    "reload(uAws)\n",
    "uAws.gVerb = False\n",
    "\n",
    "from PIL import Image\n",
    "import io\n",
    "import base64\n",
    "\n",
    "def getBase64Image(img):\n",
    "    # Convert NumPy array to PIL Image\n",
    "    pil_image = Image.fromarray(img)\n",
    "\n",
    "    # Save the PIL Image to a BytesIO buffer in PNG format\n",
    "    buffer = io.BytesIO()\n",
    "    pil_image.save(buffer, format=\"jpeg\")\n",
    "    image_bytes = buffer.getvalue()\n",
    "\n",
    "    # Base64 encode the image bytes\n",
    "    base64_encoded_image = base64.b64encode(image_bytes).decode('utf-8')\n",
    "    return base64_encoded_image"
   ]
  },
  {
   "cell_type": "markdown",
   "id": "518e1bdc",
   "metadata": {},
   "source": [
    "### 1. Settings"
   ]
  },
  {
   "cell_type": "code",
   "execution_count": 46,
   "id": "ab990150",
   "metadata": {},
   "outputs": [],
   "source": [
    "settings = {\n",
    "    'accID': '621348950418460672', # Shrinath\n",
    "    'accID': '1313274493921132544', # TMS US\n",
    "    'tStart':  datetime(2025,7,15,8,0),\n",
    "    'tEnd': datetime(2025,7,18,3),\n",
    "    'region': 'India',\n",
    "    'region': 'US',\n",
    "    'vehID': None,\n",
    "    'procDir': './AutoApprovalProc/',\n",
    "}\n",
    "settings['fetchAlertTypes'] = 'mobile_phone,seatbelt_violation'\n",
    "\n",
    "vidType = {\n",
    "    'mobile_phone': 'driver',\n",
    "    'seatbelt_violation': 'driver',\n",
    "}\n",
    "\n",
    " \n",
    "if settings['region'].lower()=='us':\n",
    "    urlUS = 'https://apis.intangles-aws-us-east-1.intangles.us'\n",
    "    tokenUS = 'FCNlIrz1dHlHyd_QYxF9V8bmLLkxNm_IzA3vq73MXdhpqOcXPf1YGBNIlgnYvrRI'\n",
    "    settings['urlFetchAlerts'] = urlUS\n",
    "    settings['urlUpdateAlerts'] = 'https://apis.intangles-aws-us-east-1.intangles.us/alertlog/{alertID}/updateV2?&token={token}'\n",
    "    settings['token'] = tokenUS\n",
    "    uAws.initiate_s3_session(isUS=True)\n",
    "else:\n",
    "    settings['urlFetchAlerts'] = 'https://apis.intangles.com'\n",
    "    settings['urlUpdateAlerts'] = 'https://apis.intangles.com/alertlog/{alertID}/updateV2?&token={token}'\n",
    "    settings['token'] = 'JBRHjp1tPFdyZwvRGblGwi-hIv5OmYu-cr--qzRE9rSCY6F1M5vxQt5Y7Wn9g7ur' \n",
    "    uAws.initiate_s3_session(isUS=False)\n",
    "\n"
   ]
  },
  {
   "cell_type": "code",
   "execution_count": 47,
   "id": "e87f9904",
   "metadata": {},
   "outputs": [],
   "source": [
    "    \n",
    "info = {\n",
    "    'start': datetime.now(),\n",
    "    'settings': settings,\n",
    "}"
   ]
  },
  {
   "cell_type": "markdown",
   "id": "8087b2df",
   "metadata": {},
   "source": [
    "### 2. Fetch Alerts & Apply Filters"
   ]
  },
  {
   "cell_type": "code",
   "execution_count": 48,
   "id": "5599bfd4",
   "metadata": {},
   "outputs": [
    {
     "name": "stdout",
     "output_type": "stream",
     "text": [
      "#Alerts=19, took 1 sec\n"
     ]
    }
   ],
   "source": [
    "t1 = time.time()\n",
    "dAlerts, info = iApis.getVTAlerts(st = settings['tStart'],\n",
    "                            en = settings['tEnd'],\n",
    "                            baseUrl = settings['urlFetchAlerts'],\n",
    "                            utoken = settings['token'],\n",
    "                            alertType= settings['fetchAlertTypes'],\n",
    "                            accID = settings['accID'],\n",
    "                           )\n",
    "t2 = time.time()\n",
    "info['t_fetchAlerts'] = t2-t1\n",
    "info['n_alerts'] = len(dAlerts)\n",
    "print(\"#Alerts=%d, took %d sec\"%(len(dAlerts), t2-t1))\n",
    "\n"
   ]
  },
  {
   "cell_type": "code",
   "execution_count": 49,
   "id": "b25369dc",
   "metadata": {},
   "outputs": [
    {
     "data": {
      "text/plain": [
       "Counter({'seatbelt_violation': 17, 'mobile_phone': 2})"
      ]
     },
     "execution_count": 49,
     "metadata": {},
     "output_type": "execute_result"
    }
   ],
   "source": [
    "from collections import Counter\n",
    "Counter([x['type'] for x in dAlerts])"
   ]
  },
  {
   "cell_type": "code",
   "execution_count": 50,
   "id": "d6f46b75",
   "metadata": {},
   "outputs": [
    {
     "name": "stdout",
     "output_type": "stream",
     "text": [
      "#dropped= 0\n",
      "#for process= 1\n"
     ]
    }
   ],
   "source": [
    "alertsToProcess = []\n",
    "info['alertsToProcess'] = []\n",
    "info['alertsToProcessMeta'] = []\n",
    "info['alertsDropped'] = []\n",
    "for ent in dAlerts:\n",
    "    # filter to keep entries in vehID only (if given)\n",
    "    vid = ent['vehicle_id']\n",
    "    if settings['vehID'] is not None:\n",
    "        if vid not in settings['vehID']:\n",
    "            continue\n",
    "            \n",
    "    # check if alert has already been annotated\n",
    "    if ent.get('alert_values',{}).get('approval_status',None) is not None:\n",
    "        continue\n",
    "        \n",
    "    # check if video is available\n",
    "    typ = ent['type']\n",
    "    vidUrl = None\n",
    "    for url in ent.get('alert_values',{}).get('artefacts',[]):\n",
    "        if url.find(vidType[typ]+'.mp4')>=0:\n",
    "            vidUrl = url\n",
    "            \n",
    "    if vidUrl is None:\n",
    "        info['alertsDropped'].append((ent['id'], typ, 'no video file'))\n",
    "    else:\n",
    "        info['alertsToProcess'].append((ent['id'], typ, vidUrl))\n",
    "        info['alertsToProcessMeta'].append(ent)\n",
    "print('#dropped=',len(info['alertsDropped']))\n",
    "print('#for process=',len(info['alertsToProcess']))"
   ]
  },
  {
   "cell_type": "code",
   "execution_count": 51,
   "id": "5ee26061",
   "metadata": {},
   "outputs": [
    {
     "data": {
      "text/plain": [
       "Counter({'seatbelt_violation': 1})"
      ]
     },
     "execution_count": 51,
     "metadata": {},
     "output_type": "execute_result"
    }
   ],
   "source": [
    "Counter([x[1] for x in info['alertsToProcess']])"
   ]
  },
  {
   "cell_type": "markdown",
   "id": "a1df67b0",
   "metadata": {},
   "source": [
    "### Get Video from S3"
   ]
  },
  {
   "cell_type": "code",
   "execution_count": 52,
   "id": "4078c2a3",
   "metadata": {},
   "outputs": [
    {
     "name": "stdout",
     "output_type": "stream",
     "text": [
      "./AutoApprovalProc//vids_20250718_0311/\n"
     ]
    }
   ],
   "source": [
    "session_id = datetime.now().strftime('%Y%m%d_%H%M')\n",
    "videoDir = settings['procDir']+'/vids_%s/'%(session_id)\n",
    "print(videoDir)\n",
    "os.makedirs(videoDir, exist_ok=True)\n",
    "\n",
    "files = []\n",
    "for (aId, typ, vidUrl) in info['alertsToProcess']:\n",
    "    files.append(vidUrl)\n",
    "#     if len(files)>40:\n",
    "#         break\n",
    "    \n",
    "t1 = time.time()\n",
    "uAws.downloadFiles(files, outDirPath=videoDir)\n",
    "t2 = time.time()\n",
    "info['t_AWS'] = t2-t1"
   ]
  },
  {
   "cell_type": "code",
   "execution_count": null,
   "id": "52cd389a",
   "metadata": {},
   "outputs": [],
   "source": []
  },
  {
   "cell_type": "markdown",
   "id": "c1c47f2b",
   "metadata": {},
   "source": [
    "### Process each video via Dino"
   ]
  },
  {
   "cell_type": "code",
   "execution_count": 53,
   "id": "c4565e58",
   "metadata": {},
   "outputs": [
    {
     "name": "stdout",
     "output_type": "stream",
     "text": [
      "loading DINO model ...\n"
     ]
    },
    {
     "name": "stderr",
     "output_type": "stream",
     "text": [
      "Using cache found in C:\\Users\\Vikram.Melapudi/.cache\\torch\\hub\\facebookresearch_dinov2_main\n",
      "C:\\Users\\Vikram.Melapudi/.cache\\torch\\hub\\facebookresearch_dinov2_main\\dinov2\\layers\\swiglu_ffn.py:51: UserWarning: xFormers is not available (SwiGLU)\n",
      "  warnings.warn(\"xFormers is not available (SwiGLU)\")\n",
      "C:\\Users\\Vikram.Melapudi/.cache\\torch\\hub\\facebookresearch_dinov2_main\\dinov2\\layers\\attention.py:33: UserWarning: xFormers is not available (Attention)\n",
      "  warnings.warn(\"xFormers is not available (Attention)\")\n",
      "C:\\Users\\Vikram.Melapudi/.cache\\torch\\hub\\facebookresearch_dinov2_main\\dinov2\\layers\\block.py:40: UserWarning: xFormers is not available (Block)\n",
      "  warnings.warn(\"xFormers is not available (Block)\")\n"
     ]
    },
    {
     "name": "stdout",
     "output_type": "stream",
     "text": [
      "loading reference dataset ...\n",
      "mobile_phone (137, 768)\n",
      "seatbelt_violation (235, 768)\n",
      "DONE.\n"
     ]
    }
   ],
   "source": [
    "# initialize\n",
    "import utilsAutoApprovalDino as uDino\n",
    "reload(uDino)\n",
    "uDino.init('AutoApprovalProc/assets/refData.json')"
   ]
  },
  {
   "cell_type": "code",
   "execution_count": 54,
   "id": "d782ec43",
   "metadata": {},
   "outputs": [],
   "source": [
    "counts = {'Approve':0, 'Ignore':0, 'Verify': 0}\n",
    "processedAlerts = {}"
   ]
  },
  {
   "cell_type": "code",
   "execution_count": 55,
   "id": "30611e00",
   "metadata": {
    "scrolled": true
   },
   "outputs": [
    {
     "name": "stdout",
     "output_type": "stream",
     "text": [
      "process 0/1...\n",
      "vod_1313375417322700800_2025-07-16_13-41-24-2025-07-16_13-41-25_driver.mp4 seatbelt_violation 705 290 Verify (5 s)\n",
      "\n",
      "DONE.\n"
     ]
    }
   ],
   "source": [
    "tempDir = os.path.join(settings['procDir'],'temp/')\n",
    "os.makedirs(tempDir, exist_ok=True)\n",
    "    \n",
    "nVid = 0\n",
    "for (aId, typ, vidUrl) in info['alertsToProcess']:\n",
    "    if aId in processedAlerts:\n",
    "        continue\n",
    "    nVid += 1\n",
    "    print('process %d/%d...'%(len(processedAlerts), len(info['alertsToProcess'])))\n",
    "    t1 = time.time()\n",
    "    localVidFile = uAws.s3ToLocalPath(vidUrl)\n",
    "    vid = imageio.get_reader( os.path.join(videoDir,localVidFile) )\n",
    "    N = 10 # vid.count_frames()\n",
    "    img = vid.get_data(N//2)\n",
    "    \n",
    "    # handle full cabin image -> crop to corrrect half side\n",
    "    if img.shape[1]>800:\n",
    "        if settings['region'].lower()=='us':\n",
    "            img = img[:,img.shape[1]//2:]\n",
    "        else:\n",
    "            img = img[:,:img.shape[1]//2]\n",
    "\n",
    "    qobj = uDino.procImage(img, saveNpz=False)#, forceLoad=True)\n",
    "    dists, indxs = qobj['knn'].kneighbors(uDino.feats[typ], 3)\n",
    "\n",
    "    xyDists = [] # tuple of (x,y,D) for each reference patch\n",
    "    for n in range(len(dists)):\n",
    "        for m in range(3):\n",
    "            x, y = uDino.index2xy(indxs[n,m], qobj)\n",
    "            xyDists.append((x,y,dists[n,m]))\n",
    "    xyDists = np.array(xyDists) \n",
    "    rules = uDino.refDataset.get(typ,{}).get('rules',{})\n",
    "    # indx = np.where(xyDists[:,2]<rules['threshold'])[0]\n",
    "\n",
    "    t2 = time.time()\n",
    "\n",
    "    Nthresh = rules['passThreshold']\n",
    "    Ntot = len(xyDists)\n",
    "    Npass = np.sum(xyDists[:,2]<Nthresh)\n",
    "    if Npass > Ntot//2+int(Ntot*rules['unsureFraction']):\n",
    "        Nres = rules[\"passAction\"]\n",
    "    elif Npass < Ntot//2-int(Ntot*rules['unsureFraction']):\n",
    "        Nres = rules[\"failAction\"]\n",
    "    else:\n",
    "        Nres = 'Verify'\n",
    "\n",
    "    print(os.path.basename(localVidFile), typ, Ntot, Npass, Nres, '(%d s)'%(t2-t1))\n",
    "    counts[Nres] += 1\n",
    "\n",
    "    rimg = uDino.cv2.resize(img, (300,200))\n",
    "    \n",
    "    processedAlerts[str(aId)] = {\n",
    "        'id': str(aId),\n",
    "        'img': getBase64Image(rimg),\n",
    "        'type': str(typ),\n",
    "        'result': Nres,\n",
    "        'Npass': Npass,\n",
    "        'Ntot': Ntot,\n",
    "        'runS': (t2-t1),\n",
    "        'date': datetime.now()\n",
    "    }\n",
    "\n",
    "    if False:\n",
    "        plt.figure(figsize=(7,3))\n",
    "        plt.subplot(121)\n",
    "        plt.imshow(qobj['image'])\n",
    "    #     plt.plot(xyDists[indx,0], xyDists[indx,1], 'rx')\n",
    "        plt.subplot(122)\n",
    "        plt.plot(sorted(xyDists[:,2]))\n",
    "        plt.hlines(45,0,len(xyDists))#,'r-')\n",
    "        plt.xlabel('feat-index')\n",
    "        plt.ylabel('NN-dist')\n",
    "        plt.tight_layout()\n",
    "        plt.show()\n",
    "print('')\n",
    "print('DONE.')"
   ]
  },
  {
   "cell_type": "code",
   "execution_count": null,
   "id": "3eaecb76",
   "metadata": {},
   "outputs": [],
   "source": []
  },
  {
   "cell_type": "markdown",
   "id": "c63714cc",
   "metadata": {},
   "source": [
    "### Write a Summary File"
   ]
  },
  {
   "cell_type": "code",
   "execution_count": 57,
   "id": "3269a90a",
   "metadata": {},
   "outputs": [
    {
     "name": "stdout",
     "output_type": "stream",
     "text": [
      "HTML file= ./AutoApprovalProc//summaryUS_20250718_0311.html\n"
     ]
    }
   ],
   "source": [
    "htmlFile = settings['procDir']+'/summary'+settings['region']+'_'+session_id+'.html'\n",
    "print('HTML file=', htmlFile)\n",
    "with open(htmlFile, 'w') as f:\n",
    "    f.write('''<html><head>\n",
    "    \n",
    "    <style>\n",
    "    *{\n",
    "      font-family: Arial;\n",
    "      font-size: 12px;\n",
    "      }\n",
    "    th, td {\n",
    "      padding-left: 10px;\n",
    "      padding-right: 10px;\n",
    "    }\n",
    "    .approve {\n",
    "        background-color:#DDFFDD;\n",
    "        padding:5px;\n",
    "        border-radius:8px;\n",
    "    }\n",
    "    .ignore {\n",
    "        background-color:#FFDDDD;\n",
    "        padding:5px;\n",
    "        border-radius:8px;\n",
    "    }\n",
    "    .verify {\n",
    "        background-color:#FFF955;\n",
    "        padding:5px;\n",
    "        border-radius:8px;\n",
    "    }\n",
    "    </style>\n",
    "    <script>\n",
    "    var settingsJSON = '%s';\n",
    "    var settingsRegion = '%s';\n",
    "    function clicked(el) {\n",
    "      var els = document.getElementsByClassName(el.id);\n",
    "      console.info(el.id+','+els.length);\n",
    "      var dval = 'none';\n",
    "      if(el.checked) dval = '';\n",
    "      for(var n=0; n<els.length; n++) {\n",
    "        if(els[n].tagName=='LABEL') continue;\n",
    "        els[n].style.display = dval;\n",
    "      }\n",
    "    }\n",
    "    \n",
    "    function initialize() {\n",
    "      var el;\n",
    "      var lst = ['approve','ignore','verify'];\n",
    "      for(var n=0; n<3; n++) {\n",
    "        el = document.getElementById(\"l\"+lst[n]);\n",
    "        var vels = document.getElementsByClassName(lst[n]);\n",
    "        el.innerHTML = lst[n] + \"(\" + (vels.length-1) + \")\";\n",
    "        el.click();\n",
    "        el.click();\n",
    "      }\n",
    "      el.click();\n",
    "      \n",
    "      // add edit option\n",
    "      var vels = document.getElementsByTagName(\"tr\");\n",
    "      var sel = \"<option value='same' default>same</option>\";\n",
    "      var selA= \"<option value='approve'>approve</option>\";\n",
    "      var selI= \"<option value='ignore'>ignore</option>\";\n",
    "      for(var m=1; m<vels.length; m++) {\n",
    "        var idIndex = 0 + (vels[m].childNodes.length>7);\n",
    "        el = vels[m].childNodes[3 + idIndex];\n",
    "        el.innerHTML = el.innerHTML;\n",
    "        var selector = sel+selA+selI\n",
    "        if(el.innerHTML.toLowerCase().search(\"approve\")>=0) selector = sel+selI;\n",
    "        if(el.innerHTML.toLowerCase().search(\"ignore\")>=0) selector = sel+selA;\n",
    "        var alertId = vels[m].childNodes[idIndex].innerHTML;\n",
    "        el.innerHTML += \" <br><select style=padding:3px;margin-top:5px; id=\"+alertId+\" typ=\"+vels[m].childNodes[2].innerHTML+\">\"+selector+\"</select>\";\n",
    "      }\n",
    "    }\n",
    "    \n",
    "    function makeXHRRequest(method, url, data = null) {\n",
    "      return new Promise((resolve, reject) => {\n",
    "        const xhr = new XMLHttpRequest();\n",
    "        xhr.open(method, url, true); // true for asynchronous\n",
    "\n",
    "        xhr.onload = function() {\n",
    "          if (xhr.status >= 200 && xhr.status < 300) {\n",
    "            resolve(xhr.responseText); // Resolve with the response text\n",
    "          } else {\n",
    "            reject(new Error(`Request failed with status ${xhr.status}`)); // Reject on error\n",
    "          }\n",
    "        };\n",
    "\n",
    "        xhr.onerror = function() {\n",
    "          reject(new Error('Network error or request failed')); // Handle network errors\n",
    "        };\n",
    "\n",
    "        if (data) {\n",
    "          xhr.setRequestHeader('Content-Type', 'application/json'); // Example for JSON data\n",
    "          xhr.send(JSON.stringify(data));\n",
    "        } else {\n",
    "          xhr.send();\n",
    "        }\n",
    "      });\n",
    "    }\n",
    "    \n",
    "    function applyEdits() {\n",
    "      var editList = [];\n",
    "      var els = document.getElementsByTagName(\"select\");\n",
    "      for(var n=0; n<els.length; n++) {\n",
    "        if(els[n].value!='same') {\n",
    "          typ = els[n].getAttribute(\"typ\");\n",
    "          editList.push([els[n].id,typ,els[n].value]);\n",
    "        }\n",
    "      }\n",
    "      alert(\"# entries to be updated:\"+editList.length);\n",
    "      \n",
    "      var token = prompt(\"enter user token:\");\n",
    "      if(token.length==0) {\n",
    "          alert(\"token length is 0\");\n",
    "      } else {\n",
    "          var baseUrl = \"https://apis.intangles.com\";\n",
    "          if (settingsRegion.toLowerCase().search(\"us\")>=0) baseUrl = \"https://apis.intangles-aws-us-east-1.intangles.us\";\n",
    "          \n",
    "          var origUrl = baseUrl + \"/alertlog/{alertID}/updateV2?token={token}\";\n",
    "          for(var n=0; n<editList.length; n++) {\n",
    "              var url = origUrl.replaceAll('{alertID}', editList[n][0]);\n",
    "              url = url.replaceAll('{token}', token);\n",
    "              console.info(url);\n",
    "              \n",
    "              var status = 'decline';\n",
    "              if (editList[n][2]=='approve') status = 'approve'              \n",
    "              var jdata = {\"approval_status\": status, \"remarks\":\"auto approval correction 1\"};           \n",
    "              var fdata = {\"user_show\": status==\"approve\", \"alert_values\": jdata}; //JSON.stringify(jdata)};\n",
    "              console.info(editList[n][0], fdata);\n",
    "              \n",
    "              makeXHRRequest('POST', url, fdata)\n",
    "                  .then(response => {\n",
    "                    console.info('Data received:', response);\n",
    "                  })\n",
    "                  .catch(error => {\n",
    "                    console.info('Error:', error);\n",
    "                  });\n",
    "          }\n",
    "      }\n",
    "    }\n",
    "    </script>\n",
    "    </head>\n",
    "    <body style=\"text-align:center;\" onload=\"initialize()\">\n",
    "    <h2 style=\"font-size:24px;background-color:#BBBBFF; padding:5px;\">Auto Approval Review</h2>\n",
    "    <div style=\"margin:10px\"> accID=%s, vIDs=%s, time=[%s, %s]\n",
    "    </div>\n",
    "    <div style=\"margin:10px\">\n",
    "    <input type=\"checkbox\" id=\"approve\" onclick=\"clicked(this)\"><label for=\"approve\" id=\"lapprove\" class=\"approve\">approve</label>\n",
    "    <input type=\"checkbox\" id=\"ignore\" onclick=\"clicked(this)\"><label for=\"ignore\" id=\"lignore\" class=\"ignore\">ignore</label>\n",
    "    <input type=\"checkbox\" id=\"verify\" onclick=\"clicked(this)\"><label for=\"verify\" id=\"lverify\" class=\"verify\">verify</label>\n",
    "    <button onclick=\"applyEdits()\" style=\"padding:5px;margin-left:20px;\">Apply Edits</button>\n",
    "    </div>\n",
    "    <table style=\"margin:5px; margin-left:auto; margin-right:auto;\">\n",
    "    '''%(json.dumps(settings,default=str), \n",
    "         settings['region'],\n",
    "         settings['accID'], \n",
    "         str(settings['vehID']), \n",
    "         str(settings['tStart']), str(settings['tEnd'])) )\n",
    "    \n",
    "    header = ['Account ID', 'Alert ID','Image','Type','Result','Score','Timing','Date']\n",
    "    f.write('<tr>')\n",
    "    for head in header:\n",
    "        f.write('<th>%s</th>'%head)\n",
    "    f.write('</tr>\\n')\n",
    "    \n",
    "    for idd in processedAlerts:\n",
    "        lst = processedAlerts[idd]\n",
    "        dtFmt = '%Y/%m/%d %H:%M'\n",
    "        alertDate = datetime.fromtimestamp(int(lst['id'].split('-')[-1])/1000)\n",
    "        f.write('<tr class=\"%s\">'%lst['result'])\n",
    "        f.write('<td>'+settings['accID']+'</td>')\n",
    "        f.write('<td>'+lst['id']+'</td>')\n",
    "        f.write('<td><img src=\"data:image/jpeg;base64,%s\"></td>'%lst['img'])\n",
    "        f.write('<td>'+lst['type']+'</td>')\n",
    "        f.write('<td>%s</td>'%lst['result'])\n",
    "        f.write('<td>%d/%d</td>'%(lst['Npass'], lst['Ntot']))\n",
    "        f.write('<td>%1.2f</td>'%lst['runS'])\n",
    "        f.write('<td>%s<br>(%s)</td>'%(alertDate.strftime(dtFmt), lst['date'].strftime(dtFmt)))\n",
    "        f.write('</tr>\\n')\n",
    "    \n",
    "    f.write('''</table>\n",
    "    </body></html>\n",
    "    '''\n",
    "    )\n",
    "    \n",
    "      "
   ]
  },
  {
   "cell_type": "code",
   "execution_count": 31,
   "id": "c728b245",
   "metadata": {
    "scrolled": false
   },
   "outputs": [],
   "source": [
    "from IPython.display import HTML\n",
    "\n",
    "# HTML(filename=htmlFile)"
   ]
  },
  {
   "cell_type": "markdown",
   "id": "84c402d6",
   "metadata": {},
   "source": [
    "### Update alerts"
   ]
  },
  {
   "cell_type": "code",
   "execution_count": 32,
   "id": "7bd2bc00",
   "metadata": {},
   "outputs": [
    {
     "name": "stdout",
     "output_type": "stream",
     "text": [
      " 1380918636398510080-seatbelt_violation-1752541729100 seatbelt_violation Ignore False\n",
      " 1313375417322700800-seatbelt_violation-1752546130005 seatbelt_violation Ignore False\n"
     ]
    }
   ],
   "source": [
    "import requests\n",
    "\n",
    "userShow = {\n",
    "    'mobile_phone': {\n",
    "        'Approve': (True, json.dumps({\"approval_status\":\"approve\", \"remarks\":\"auto approval\"})),\n",
    "        'Ignore': (False, json.dumps({\"approval_status\":\"decline\", \"remarks\":\"auto approval\"})),\n",
    "    },\n",
    "    'seatbelt_violation': {\n",
    "        'Approve': (True, json.dumps({\"approval_status\":\"approve\", \"remarks\":\"auto approval\"})),\n",
    "        'Ignore': (False, json.dumps({\"approval_status\":\"decline\", \"remarks\":\"auto approval\"})),\n",
    "    },\n",
    "}\n",
    "\n",
    "\n",
    "# ignoreData = {\"user_show\":False, \n",
    "#               \"alert_values\": json.dumps({\"approval_status\":\"decline\", \"remarks\":\"Detection Issue: No yawn/No Eye Close\"})\n",
    "#              }\n",
    "\n",
    "if True:\n",
    "    alertUpdateURL = settings['urlUpdateAlerts']\n",
    "    for aId in processedAlerts:\n",
    "        ent = processedAlerts[aId]\n",
    "        if ent['result']=='Verify':\n",
    "            continue\n",
    "        if ent['result']=='Approve':\n",
    "            continue\n",
    "\n",
    "        accId = settings['accID']\n",
    "        token = settings['token']\n",
    "        flag, values = userShow.get(ent['type']).get(ent['result'])\n",
    "\n",
    "        ignoreData = {'user_show': flag, 'alert_values': values}\n",
    "        head = ''\n",
    "        if ent['result'].lower()=='approve':\n",
    "            head = '***'\n",
    "        print(head, aId, typ, ent['result'], flag)# , values)\n",
    "        r = requests.post(alertUpdateURL.format(alertID=aId,token=token), json=ignoreData)\n",
    "        rjd = r.json()\n"
   ]
  },
  {
   "cell_type": "code",
   "execution_count": 3,
   "id": "434fac1c",
   "metadata": {},
   "outputs": [
    {
     "data": {
      "text/plain": [
       "'https://apis.intangles.com/alertlog/{alertID}/updateV2?&acc_id={accID}&token={token}'"
      ]
     },
     "execution_count": 3,
     "metadata": {},
     "output_type": "execute_result"
    }
   ],
   "source": [
    "settings['urlUpdateAlerts']"
   ]
  },
  {
   "cell_type": "code",
   "execution_count": 36,
   "id": "41fb485c",
   "metadata": {},
   "outputs": [
    {
     "name": "stdout",
     "output_type": "stream",
     "text": [
      "1220369221305761792-mobile_phone-1752685303552\n"
     ]
    }
   ],
   "source": [
    "import requests\n",
    "\n",
    "aId = '1220369221305761792-mobile_phone-1752685303552'\n",
    "token = settings['token']\n",
    "alertUpdateURL = settings['urlUpdateAlerts']\n",
    "\n",
    "values = json.dumps({\"approval_status\":\"decline\", \"remarks\":\"auto approval correction\"})\n",
    "ignoreData = {'user_show': False, 'alert_values': values}\n",
    "print(aId)\n",
    "\n",
    "r = requests.post(alertUpdateURL.format(alertID=aId, token=token), json=ignoreData)\n",
    "rjd = r.json()"
   ]
  },
  {
   "cell_type": "code",
   "execution_count": 38,
   "id": "a0c676ee",
   "metadata": {},
   "outputs": [
    {
     "data": {
      "text/plain": [
       "'JBRHjp1tPFdyZwvRGblGwi-hIv5OmYu-cr--qzRE9rSCY6F1M5vxQt5Y7Wn9g7ur'"
      ]
     },
     "execution_count": 38,
     "metadata": {},
     "output_type": "execute_result"
    }
   ],
   "source": [
    "token"
   ]
  },
  {
   "cell_type": "code",
   "execution_count": 6,
   "id": "e2eaede9",
   "metadata": {},
   "outputs": [
    {
     "name": "stdout",
     "output_type": "stream",
     "text": [
      " 1296113529593528320-seatbelt_violation-1752510042234\n",
      " 1296113529593528320-seatbelt_violation-1752515961831\n"
     ]
    }
   ],
   "source": [
    "alertIdsToIgnore='''\n",
    "1367818721430601728-mobile_phone-1752497944948\n",
    "1422927266731524096-mobile_phone-1752500868420\n",
    "1422927266731524096-mobile_phone-1752500975565\n",
    "621824374126735360-mobile_phone-1752459954020\n",
    "621824374126735360-mobile_phone-1752460202149\n",
    "1347204086562291712-mobile_phone-1752462349390'''\n",
    "\n",
    "# alertIdsToIgnore = '''\n",
    "# 1296113529593528320-seatbelt_violation-1752510042234\n",
    "# 1296113529593528320-seatbelt_violation-1752515961831'''\n",
    "\n",
    "import requests\n",
    "alertUpdateURL = settings['urlUpdateAlerts']\n",
    "for aId in alertIdsToIgnore.split('\\n'):\n",
    "    if len(aId.strip())<=0:\n",
    "        continue\n",
    "    \n",
    "    accId = aId.split('-')[0]\n",
    "    token = settings['token']\n",
    "    values = json.dumps({\"approval_status\":\"decline\", \"user_remarks\":\"auto approval correction\"})\n",
    "    ignoreData = {'user_show': False, 'alert_values': values}\n",
    "    head = ''\n",
    "    print(head, aId)\n",
    "    r = requests.post(alertUpdateURL.format(alertID=aId,token=token), json=ignoreData)\n",
    "    rjd = r.json()\n"
   ]
  },
  {
   "cell_type": "code",
   "execution_count": 7,
   "id": "ffd0d435",
   "metadata": {},
   "outputs": [
    {
     "name": "stdout",
     "output_type": "stream",
     "text": [
      " 1332391193698369536-mobile_phone-1752497932939\n",
      " 1359906014471651328-mobile_phone-1752499356739\n",
      " 711353357381402624-seatbelt_violation-1752423631550\n",
      " 1334833384924381184-mobile_phone-1752425481620\n"
     ]
    }
   ],
   "source": [
    "alertIdsToAccept='''\n",
    "1332391193698369536-mobile_phone-1752497932939\n",
    "1359906014471651328-mobile_phone-1752499356739\n",
    "711353357381402624-seatbelt_violation-1752423631550\n",
    "1334833384924381184-mobile_phone-1752425481620'''\n",
    "\n",
    "\n",
    "import requests\n",
    "alertUpdateURL = settings['urlUpdateAlerts']\n",
    "for aId in alertIdsToAccept.split('\\n'):\n",
    "    if len(aId.strip())<=0:\n",
    "        continue\n",
    "    \n",
    "    accId = aId.split('-')[0]\n",
    "    token = settings['token']\n",
    "    values = json.dumps({\"approval_status\":\"approve\", \"user_remarks\":\"auto approval correction\"})\n",
    "    ignoreData = {'user_show': True, 'alert_values': values}\n",
    "    head = ''\n",
    "    print(head, aId)\n",
    "    r = requests.post(alertUpdateURL.format(alertID=aId,token=token), ignoreData)\n",
    "    rjd = r.json()"
   ]
  },
  {
   "cell_type": "code",
   "execution_count": null,
   "id": "c250e28e",
   "metadata": {},
   "outputs": [],
   "source": []
  }
 ],
 "metadata": {
  "kernelspec": {
   "display_name": "Python 3 (ipykernel)",
   "language": "python",
   "name": "python3"
  },
  "language_info": {
   "codemirror_mode": {
    "name": "ipython",
    "version": 3
   },
   "file_extension": ".py",
   "mimetype": "text/x-python",
   "name": "python",
   "nbconvert_exporter": "python",
   "pygments_lexer": "ipython3",
   "version": "3.11.5"
  }
 },
 "nbformat": 4,
 "nbformat_minor": 5
}
